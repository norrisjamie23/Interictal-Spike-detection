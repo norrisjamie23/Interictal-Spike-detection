{
 "cells": [
  {
   "cell_type": "markdown",
   "metadata": {},
   "source": [
    "# Analysis notebook\n",
    "\n",
    "This notebook contains additional functions to analyse a trained model. As of now, you can produce a heatmap visualising the weights of a given basis function for a trained model.\n",
    "\n",
    "### Import necessary modules"
   ]
  },
  {
   "cell_type": "code",
   "execution_count": 1,
   "metadata": {},
   "outputs": [],
   "source": [
    "import sys\n",
    "sys.path.append(\"../src\")\n",
    "\n",
    "from analysis import plot_IED_heatmap"
   ]
  },
  {
   "cell_type": "markdown",
   "metadata": {},
   "source": [
    "### Set necessary paths\n",
    "Change these to your model (to get weights) and EDF file (to get channel names)."
   ]
  },
  {
   "cell_type": "code",
   "execution_count": 2,
   "metadata": {},
   "outputs": [],
   "source": [
    "# Path to model\n",
    "weights_path = '/path/to/weights.pkl'\n",
    "\n",
    "# Path to EDF file that model was trained on\n",
    "data_path = '/path/to/data.edf'"
   ]
  },
  {
   "cell_type": "markdown",
   "metadata": {},
   "source": [
    "### Produce a heatmap\n",
    "The ```basis_index``` is the index of the basis function that you want to visualise. You can change this (note that this is zero-indexed)."
   ]
  },
  {
   "cell_type": "code",
   "execution_count": 3,
   "metadata": {},
   "outputs": [],
   "source": [
    "# Plot the heatmap\n",
    "plot_IED_heatmap(weights_path=weights_path, data_path=data_path, basis_index=0, save_path='../images/IED_heatmap.svg')"
   ]
  }
 ],
 "metadata": {
  "kernelspec": {
   "display_name": "Python 3",
   "language": "python",
   "name": "python3"
  },
  "language_info": {
   "codemirror_mode": {
    "name": "ipython",
    "version": 3
   },
   "file_extension": ".py",
   "mimetype": "text/x-python",
   "name": "python",
   "nbconvert_exporter": "python",
   "pygments_lexer": "ipython3",
   "version": "3.11.4"
  },
  "orig_nbformat": 4
 },
 "nbformat": 4,
 "nbformat_minor": 2
}
