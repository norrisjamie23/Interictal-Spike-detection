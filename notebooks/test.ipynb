{
 "cells": [
  {
   "cell_type": "code",
   "execution_count": 2,
   "metadata": {},
   "outputs": [],
   "source": [
    "import numpy as np\n",
    "import mne\n",
    "from scipy.signal import butter, filtfilt#lfilter, firwin2, freqz, iirnotch, , savgol_filter\n",
    "from scipy.signal.windows import hann\n",
    "import scipy"
   ]
  },
  {
   "cell_type": "code",
   "execution_count": 2,
   "metadata": {},
   "outputs": [
    {
     "name": "stdout",
     "output_type": "stream",
     "text": [
      "Extracting EDF parameters from /Users/jamienorris/Documents/GOSH_SEEG_Analysis/stuart_data/AJD_1097824/Interictal_AJD_red_proc.edf...\n",
      "EDF file detected\n",
      "Setting channel info structure...\n",
      "Creating raw.info structure...\n",
      "Reading 0 ... 3703295  =      0.000 ...  7232.998 secs...\n"
     ]
    }
   ],
   "source": [
    "data = mne.io.read_raw_edf(\"/Users/jamienorris/Documents/GOSH_SEEG_Analysis/stuart_data/AJD_1097824/Interictal_AJD_red_proc.edf\", preload=True)"
   ]
  },
  {
   "cell_type": "code",
   "execution_count": 15,
   "metadata": {},
   "outputs": [],
   "source": [
    "def line_length(a, w = 20):\n",
    "    # a = array to use, n = line-length window e.g. 40ms worth\n",
    "    \n",
    "    # Get difference between datapoints\n",
    "    a = np.diff(a)\n",
    "    \n",
    "    # Get absolute difference between datapoints\n",
    "    a = np.abs(a)\n",
    "    \n",
    "    # Pad to length of original array\n",
    "    a = np.pad(a, ((0, 0), (w//2 + 1, w//2 + w % 2)), 'constant')\n",
    "    \n",
    "    ret = np.cumsum(a, axis=1, dtype=float)\n",
    "    \n",
    "    return ret[:, w:] - ret[:, :-w]\n",
    "\n",
    "def line_length_transform(data, window=40):\n",
    "    ll_resample_freq = 50\n",
    "    # Window corresponds to line-length window in ms.\n",
    "\n",
    "    # Get line-length window (40ms) in number of datapoints\n",
    "    window_pts = int(np.round(data.info['sfreq'] * window / 1000))\n",
    "            \n",
    "    # Apply line-length transformation to data\n",
    "    ll = line_length(data.get_data(), w = window_pts)\n",
    "\n",
    "    # Low-pass filter at 20 Hz\n",
    "    bl, al = butter(4, 20 / (data.info['sfreq'] / 2), 'lowpass')\n",
    "    ll = filtfilt(bl, al, ll)\n",
    "\n",
    "    # Resample at ll_resample_freq (default 50 Hz)\n",
    "    ll = scipy.signal.resample(ll, int(ll.shape[1] * ll_resample_freq/data.info['sfreq']), axis=1)\n",
    "\n",
    "    # Resampling can result in negative values, set these to 0\n",
    "    ll[ll < 0] = 0\n",
    "\n",
    "    return ll\n",
    "\n",
    "def hanning_window(data, freq=50):\n",
    "    # Apply one-second taper to either side of EEG\n",
    "    \n",
    "    # 2 seconds in total\n",
    "    w = 2*freq\n",
    "    haw=1-hann(w)\n",
    "    \n",
    "    # Split into left and right side window\n",
    "    lhaw=haw[freq:]\n",
    "    rhaw=haw[:freq]\n",
    "\n",
    "    # Multiply left and right second by lhaw/rhaw\n",
    "    data[:, :freq] = np.multiply(data[:, :freq], lhaw)\n",
    "    data[:, -freq:] = np.multiply(data[:, -freq:], rhaw)\n",
    "\n",
    "    return data"
   ]
  },
  {
   "cell_type": "code",
   "execution_count": 4,
   "metadata": {},
   "outputs": [
    {
     "name": "stdout",
     "output_type": "stream",
     "text": [
      "Creating RawArray with float64 data, n_channels=165, n_times=3703296\n",
      "    Range : 0 ... 3703295 =      0.000 ...  7232.998 secs\n",
      "Ready.\n",
      "Filtering raw data in 1 contiguous segment\n",
      "Setting up band-pass filter from 0.1 - 50 Hz\n",
      "\n",
      "FIR filter parameters\n",
      "---------------------\n",
      "Designing a one-pass, zero-phase, non-causal bandpass filter:\n",
      "- Windowed time-domain design (firwin) method\n",
      "- Hamming window with 0.0194 passband ripple and 53 dB stopband attenuation\n",
      "- Lower passband edge: 0.10\n",
      "- Lower transition bandwidth: 0.10 Hz (-6 dB cutoff frequency: 0.05 Hz)\n",
      "- Upper passband edge: 50.00 Hz\n",
      "- Upper transition bandwidth: 12.50 Hz (-6 dB cutoff frequency: 56.25 Hz)\n",
      "- Filter length: 16897 samples (33.002 s)\n",
      "\n"
     ]
    },
    {
     "name": "stderr",
     "output_type": "stream",
     "text": [
      "[Parallel(n_jobs=1)]: Using backend SequentialBackend with 1 concurrent workers.\n",
      "[Parallel(n_jobs=1)]: Done   1 out of   1 | elapsed:    0.1s remaining:    0.0s\n",
      "[Parallel(n_jobs=1)]: Done   2 out of   2 | elapsed:    0.1s remaining:    0.0s\n",
      "[Parallel(n_jobs=1)]: Done   3 out of   3 | elapsed:    0.2s remaining:    0.0s\n",
      "[Parallel(n_jobs=1)]: Done   4 out of   4 | elapsed:    0.3s remaining:    0.0s\n",
      "[Parallel(n_jobs=1)]: Done 165 out of 165 | elapsed:   10.1s finished\n"
     ]
    },
    {
     "name": "stdout",
     "output_type": "stream",
     "text": [
      "Creating RawArray with float64 data, n_channels=165, n_times=3703296\n",
      "    Range : 0 ... 3703295 =      0.000 ...  7232.998 secs\n",
      "Ready.\n"
     ]
    },
    {
     "data": {
      "text/html": [
       "<table class=\"table table-hover table-striped table-sm table-responsive small\">\n",
       "    <tr>\n",
       "        <th>Measurement date</th>\n",
       "        \n",
       "        <td>December 22, 2022  15:16:35 GMT</td>\n",
       "        \n",
       "    </tr>\n",
       "    <tr>\n",
       "        <th>Experimenter</th>\n",
       "        \n",
       "        <td>Unknown</td>\n",
       "        \n",
       "    </tr>\n",
       "        <th>Participant</th>\n",
       "        \n",
       "        <td>Unknown</td>\n",
       "        \n",
       "    </tr>\n",
       "    <tr>\n",
       "        <th>Digitized points</th>\n",
       "        \n",
       "        <td>Not available</td>\n",
       "        \n",
       "    </tr>\n",
       "    <tr>\n",
       "        <th>Good channels</th>\n",
       "        <td>165 EEG</td>\n",
       "    </tr>\n",
       "    <tr>\n",
       "        <th>Bad channels</th>\n",
       "        <td>None</td>\n",
       "    </tr>\n",
       "    <tr>\n",
       "        <th>EOG channels</th>\n",
       "        <td>Not available</td>\n",
       "    </tr>\n",
       "    <tr>\n",
       "        <th>ECG channels</th>\n",
       "        <td>Not available</td>\n",
       "    \n",
       "    <tr>\n",
       "        <th>Sampling frequency</th>\n",
       "        <td>500.00 Hz</td>\n",
       "    </tr>\n",
       "    \n",
       "    \n",
       "    <tr>\n",
       "        <th>Highpass</th>\n",
       "        <td>0.10 Hz</td>\n",
       "    </tr>\n",
       "    \n",
       "    \n",
       "    <tr>\n",
       "        <th>Lowpass</th>\n",
       "        <td>50.00 Hz</td>\n",
       "    </tr>\n",
       "    \n",
       "    \n",
       "    \n",
       "    <tr>\n",
       "        <th>Duration</th>\n",
       "        <td>02:00:33 (HH:MM:SS)</td>\n",
       "    </tr>\n",
       "</table>"
      ],
      "text/plain": [
       "<RawArray | 165 x 3616500 (7233.0 s), ~4.45 GB, data loaded>"
      ]
     },
     "execution_count": 4,
     "metadata": {},
     "output_type": "execute_result"
    }
   ],
   "source": [
    "# Get data as a NumPy array\n",
    "raw = data.get_data()\n",
    "\n",
    "# Remove occassional DC component by zero-centering individual channels\n",
    "raw -= np.expand_dims(np.nanmedian(raw, axis=1), axis=-1)\n",
    "\n",
    "# Create a new RawEDF object with the zero-centred data\n",
    "data = mne.io.RawArray(raw, data.info)\n",
    "\n",
    "# Bandpass filter between 0.1 and 50/200 Hz \n",
    "# Note: it should be with a butter filter of order 2\n",
    "data.filter(0.1, 50)\n",
    "\n",
    "# Get data as a NumPy array\n",
    "raw = data.get_data()\n",
    "\n",
    "# Re-reference to the global median voltage\n",
    "raw -= np.median(raw)\n",
    "\n",
    "# This is set as 50 µV in Maxime's paper\n",
    "scaled_voltage = 50\n",
    "\n",
    "# Normalise each channel by scaling its median absolute voltage to 50 µV\n",
    "raw *= np.expand_dims((scaled_voltage / np.median(np.absolute(raw), axis=1)), axis=-1)\n",
    "\n",
    "# Create a new RawEDF object with the transformed data\n",
    "data = mne.io.RawArray(raw, data.info)\n",
    "\n",
    "# Resample to 500 Hz\n",
    "data.resample(sfreq=500)\n",
    "        "
   ]
  },
  {
   "cell_type": "code",
   "execution_count": 5,
   "metadata": {},
   "outputs": [],
   "source": [
    "ll = line_length_transform(data)"
   ]
  },
  {
   "cell_type": "code",
   "execution_count": 16,
   "metadata": {},
   "outputs": [],
   "source": [
    "# data.plot(start=130, scalings=dict(eeg=5e2))\n",
    "hw = hanning_window(ll)"
   ]
  },
  {
   "cell_type": "code",
   "execution_count": 19,
   "metadata": {},
   "outputs": [
    {
     "data": {
      "text/plain": [
       "0.0"
      ]
     },
     "execution_count": 19,
     "metadata": {},
     "output_type": "execute_result"
    }
   ],
   "source": [
    "(hw - ll).max()"
   ]
  },
  {
   "cell_type": "code",
   "execution_count": 3,
   "metadata": {},
   "outputs": [
    {
     "name": "stdout",
     "output_type": "stream",
     "text": [
      "Opening raw data file /Users/jamienorris/Documents/Interictal-Spike-detection/ll.fif...\n",
      "Isotrak not found\n",
      "    Range : 0 ... 361649 =      0.000 ...  7232.980 secs\n",
      "Ready.\n",
      "Reading 0 ... 361649  =      0.000 ...  7232.980 secs...\n"
     ]
    },
    {
     "name": "stderr",
     "output_type": "stream",
     "text": [
      "/var/folders/s8/yc5ds6dn11ncxwggkx3c6wrc0000gn/T/ipykernel_14841/2977548305.py:1: RuntimeWarning: This filename (/Users/jamienorris/Documents/Interictal-Spike-detection/ll.fif) does not conform to MNE naming conventions. All raw files should end with raw.fif, raw_sss.fif, raw_tsss.fif, _meg.fif, _eeg.fif, _ieeg.fif, raw.fif.gz, raw_sss.fif.gz, raw_tsss.fif.gz, _meg.fif.gz, _eeg.fif.gz or _ieeg.fif.gz\n",
      "  data = mne.io.read_raw_fif(\"/Users/jamienorris/Documents/Interictal-Spike-detection/ll.fif\", preload=True)\n"
     ]
    }
   ],
   "source": [
    "data = mne.io.read_raw_fif(\"/Users/jamienorris/Documents/Interictal-Spike-detection/ll.fif\", preload=True)"
   ]
  },
  {
   "cell_type": "code",
   "execution_count": 11,
   "metadata": {},
   "outputs": [
    {
     "data": {
      "text/html": [
       "<table class=\"table table-hover table-striped table-sm table-responsive small\">\n",
       "    <tr>\n",
       "        <th>Measurement date</th>\n",
       "        \n",
       "        <td>December 22, 2022  15:16:35 GMT</td>\n",
       "        \n",
       "    </tr>\n",
       "    <tr>\n",
       "        <th>Experimenter</th>\n",
       "        \n",
       "        <td>Unknown</td>\n",
       "        \n",
       "    </tr>\n",
       "        <th>Participant</th>\n",
       "        \n",
       "        <td>Unknown</td>\n",
       "        \n",
       "    </tr>\n",
       "    <tr>\n",
       "        <th>Digitized points</th>\n",
       "        \n",
       "        <td>Not available</td>\n",
       "        \n",
       "    </tr>\n",
       "    <tr>\n",
       "        <th>Good channels</th>\n",
       "        <td>165 EEG</td>\n",
       "    </tr>\n",
       "    <tr>\n",
       "        <th>Bad channels</th>\n",
       "        <td>None</td>\n",
       "    </tr>\n",
       "    <tr>\n",
       "        <th>EOG channels</th>\n",
       "        <td>Not available</td>\n",
       "    </tr>\n",
       "    <tr>\n",
       "        <th>ECG channels</th>\n",
       "        <td>Not available</td>\n",
       "    \n",
       "    <tr>\n",
       "        <th>Sampling frequency</th>\n",
       "        <td>50.00 Hz</td>\n",
       "    </tr>\n",
       "    \n",
       "    \n",
       "    <tr>\n",
       "        <th>Highpass</th>\n",
       "        <td>0.10 Hz</td>\n",
       "    </tr>\n",
       "    \n",
       "    \n",
       "    <tr>\n",
       "        <th>Lowpass</th>\n",
       "        <td>20.00 Hz</td>\n",
       "    </tr>\n",
       "    \n",
       "    \n",
       "    \n",
       "    <tr>\n",
       "        <th>Filenames</th>\n",
       "        <td>ll.fif</td>\n",
       "    </tr>\n",
       "    \n",
       "    <tr>\n",
       "        <th>Duration</th>\n",
       "        <td>02:00:33 (HH:MM:SS)</td>\n",
       "    </tr>\n",
       "</table>"
      ],
      "text/plain": [
       "<Raw | ll.fif, 165 x 361650 (7233.0 s), ~455.4 MB, data loaded>"
      ]
     },
     "execution_count": 11,
     "metadata": {},
     "output_type": "execute_result"
    }
   ],
   "source": [
    "data#.plot(scalings=dict(eeg=5e2))"
   ]
  },
  {
   "cell_type": "code",
   "execution_count": 14,
   "metadata": {},
   "outputs": [],
   "source": [
    "W1 = np.load(\"/Users/jamienorris/Documents/Interictal-Spike-detection/W.npy\")\n",
    "W2 = np.load(\"/Users/jamienorris/Documents/GOSH_SEEG_Analysis/models/AJD_1097824/W.npy\")"
   ]
  },
  {
   "cell_type": "code",
   "execution_count": 27,
   "metadata": {},
   "outputs": [],
   "source": [
    "corrs = np.zeros((5, 5))\n",
    "for i in range(5):\n",
    "    for j in range(5):\n",
    "        corrs[i, j] = np.corrcoef(W1[:, i], W2[:, j])[0, 1]"
   ]
  },
  {
   "cell_type": "code",
   "execution_count": 34,
   "metadata": {},
   "outputs": [
    {
     "data": {
      "image/png": "[encoded data removed]",
      "text/plain": [
       "<Figure size 640x480 with 1 Axes>"
      ]
     },
     "metadata": {},
     "output_type": "display_data"
    }
   ],
   "source": [
    "import matplotlib.pyplot as plt\n",
    "\n",
    "fig, ax = plt.subplots()\n",
    "im = ax.imshow(corrs)\n",
    "\n",
    "for i in range(5):\n",
    "    for j in range(5):\n",
    "        text = ax.text(j, i, str(corrs[i, j])[:5],\n",
    "                       ha=\"center\", va=\"center\", color=\"w\")\n",
    "\n",
    "plt.show()"
   ]
  },
  {
   "cell_type": "code",
   "execution_count": null,
   "metadata": {},
   "outputs": [],
   "source": []
  }
 ],
 "metadata": {
  "kernelspec": {
   "display_name": "Python 3",
   "language": "python",
   "name": "python3"
  },
  "language_info": {
   "codemirror_mode": {
    "name": "ipython",
    "version": 3
   },
   "file_extension": ".py",
   "mimetype": "text/x-python",
   "name": "python",
   "nbconvert_exporter": "python",
   "pygments_lexer": "ipython3",
   "version": "3.10.11"
  },
  "orig_nbformat": 4
 },
 "nbformat": 4,
 "nbformat_minor": 2
}
